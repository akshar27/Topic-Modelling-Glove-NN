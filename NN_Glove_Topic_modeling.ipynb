{
  "metadata": {
    "kernelspec": {
      "language": "python",
      "display_name": "Python 3",
      "name": "python3"
    },
    "language_info": {
      "name": "python",
      "version": "3.10.12",
      "mimetype": "text/x-python",
      "codemirror_mode": {
        "name": "ipython",
        "version": 3
      },
      "pygments_lexer": "ipython3",
      "nbconvert_exporter": "python",
      "file_extension": ".py"
    },
    "kaggle": {
      "accelerator": "gpu",
      "dataSources": [
        {
          "sourceId": 1427922,
          "sourceType": "datasetVersion",
          "datasetId": 836238
        }
      ],
      "dockerImageVersionId": 30823,
      "isInternetEnabled": true,
      "language": "python",
      "sourceType": "notebook",
      "isGpuEnabled": true
    },
    "colab": {
      "name": "NN Glove Topic modeling",
      "provenance": [],
      "include_colab_link": true
    }
  },
  "nbformat_minor": 0,
  "nbformat": 4,
  "cells": [
    {
      "cell_type": "markdown",
      "metadata": {
        "id": "view-in-github",
        "colab_type": "text"
      },
      "source": [
        "<a href=\"https://colab.research.google.com/github/akshar27/Topic-Modelling-Glove-NN/blob/main/NN_Glove_Topic_modeling.ipynb\" target=\"_parent\"><img src=\"https://colab.research.google.com/assets/colab-badge.svg\" alt=\"Open In Colab\"/></a>"
      ]
    },
    {
      "source": [
        "# IMPORTANT: RUN THIS CELL IN ORDER TO IMPORT YOUR KAGGLE DATA SOURCES,\n",
        "# THEN FEEL FREE TO DELETE THIS CELL.\n",
        "# NOTE: THIS NOTEBOOK ENVIRONMENT DIFFERS FROM KAGGLE'S PYTHON\n",
        "# ENVIRONMENT SO THERE MAY BE MISSING LIBRARIES USED BY YOUR\n",
        "# NOTEBOOK.\n",
        "import kagglehub\n",
        "blessondensil294_topic_modeling_for_research_articles_path = kagglehub.dataset_download('blessondensil294/topic-modeling-for-research-articles')\n",
        "\n",
        "print('Data source import complete.')\n"
      ],
      "metadata": {
        "id": "AsuBwVwS-W4w"
      },
      "cell_type": "code",
      "outputs": [],
      "execution_count": null
    },
    {
      "cell_type": "code",
      "source": [
        "!pip install -qqq glove-python3"
      ],
      "metadata": {
        "_uuid": "8f2839f25d086af736a60e9eeb907d3b93b6e0e5",
        "_cell_guid": "b1076dfc-b9ad-4769-8c92-a6c4dae69d19",
        "trusted": true,
        "execution": {
          "iopub.status.busy": "2025-02-04T21:54:49.31Z",
          "iopub.execute_input": "2025-02-04T21:54:49.310392Z",
          "iopub.status.idle": "2025-02-04T21:55:08.832628Z",
          "shell.execute_reply.started": "2025-02-04T21:54:49.310362Z",
          "shell.execute_reply": "2025-02-04T21:55:08.83149Z"
        },
        "id": "DKX7A5LE-W4x",
        "outputId": "0269a4c1-1c38-4fb5-8994-a70079859d50"
      },
      "outputs": [
        {
          "name": "stdout",
          "text": "\u001b[2K     \u001b[90m━━━━━━━━━━━━━━━━━━━━━━━━━━━━━━━━━━━━━━━━\u001b[0m \u001b[32m327.0/327.0 kB\u001b[0m \u001b[31m9.0 MB/s\u001b[0m eta \u001b[36m0:00:00\u001b[0mta \u001b[36m0:00:01\u001b[0m\n\u001b[?25h  Preparing metadata (setup.py) ... \u001b[?25l\u001b[?25hdone\n  Building wheel for glove-python3 (setup.py) ... \u001b[?25l\u001b[?25hdone\n",
          "output_type": "stream"
        }
      ],
      "execution_count": null
    },
    {
      "cell_type": "code",
      "source": [
        "import numpy as np\n",
        "import nltk\n",
        "import pandas as pd\n",
        "import tensorflow as tf\n",
        "from glove import Corpus, Glove\n",
        "from nltk.tokenize import word_tokenize\n",
        "from tensorflow.keras.layers import Input, Dense, Dropout, Embedding, Flatten, LSTM\n",
        "from tensorflow.keras.models import Sequential\n",
        "from tensorflow.keras.optimizers import Adam\n",
        "from sklearn.feature_extraction.text import CountVectorizer\n",
        "from sklearn.model_selection import train_test_split\n",
        "from sklearn.preprocessing import LabelEncoder\n",
        "import matplotlib.pyplot as plt\n",
        "\n",
        "# Load the train dataset\n",
        "train_data_path = '/kaggle/input/topic-modeling-for-research-articles/train.csv'  # Update with your local file path\n",
        "train_df = pd.read_csv(train_data_path)\n",
        "\n",
        "# Load the test dataset\n",
        "test_data_path = '/kaggle/input/topic-modeling-for-research-articles/test.csv'  # Update with your local file path\n",
        "test_df = pd.read_csv(test_data_path)"
      ],
      "metadata": {
        "trusted": true,
        "execution": {
          "iopub.status.busy": "2025-02-04T21:55:08.834281Z",
          "iopub.execute_input": "2025-02-04T21:55:08.834657Z",
          "iopub.status.idle": "2025-02-04T21:55:18.14334Z",
          "shell.execute_reply.started": "2025-02-04T21:55:08.834623Z",
          "shell.execute_reply": "2025-02-04T21:55:18.142349Z"
        },
        "id": "7B2fbddl-W4x"
      },
      "outputs": [],
      "execution_count": null
    },
    {
      "cell_type": "code",
      "source": [
        "nltk.download('punkt')"
      ],
      "metadata": {
        "trusted": true,
        "execution": {
          "iopub.status.busy": "2025-02-04T21:55:18.144585Z",
          "iopub.execute_input": "2025-02-04T21:55:18.144886Z",
          "iopub.status.idle": "2025-02-04T21:55:18.268566Z",
          "shell.execute_reply.started": "2025-02-04T21:55:18.144865Z",
          "shell.execute_reply": "2025-02-04T21:55:18.267734Z"
        },
        "id": "fNh5vPjO-W4x",
        "outputId": "8d2462bc-f896-45e1-e8df-978e5e02ec3d"
      },
      "outputs": [
        {
          "name": "stdout",
          "text": "[nltk_data] Downloading package punkt to /usr/share/nltk_data...\n[nltk_data]   Package punkt is already up-to-date!\n",
          "output_type": "stream"
        },
        {
          "execution_count": 3,
          "output_type": "execute_result",
          "data": {
            "text/plain": "True"
          },
          "metadata": {}
        }
      ],
      "execution_count": null
    },
    {
      "cell_type": "code",
      "source": [
        "# tokenize the abstract\n",
        "tokenized_abstract = [word_tokenize(msg.lower()) for msg in train_df['ABSTRACT']]\n",
        "\n",
        "# Create glove corpus and generate a co-occurance matrix\n",
        "corpus = Corpus()\n",
        "corpus.fit(tokenized_abstract, window=4)\n",
        "\n",
        "#Train glove model\n",
        "glove = Glove(no_components=50, learning_rate = 0.05)\n",
        "glove.fit(corpus.matrix, epochs=50, no_threads=2, verbose=True)\n",
        "glove.add_dictionary(corpus.dictionary)\n",
        "\n",
        "# create a word embedding matrix\n",
        "vocab_size = len(glove.dictionary)\n",
        "embedding_dim = glove.no_components\n",
        "\n",
        "# Map word to Glove Embedding\n",
        "embedding_matrix = np.zeros((vocab_size, embedding_dim))\n",
        "for word, idx in glove.dictionary.items():\n",
        "    embedding_matrix[idx] = glove.word_vectors[idx]"
      ],
      "metadata": {
        "trusted": true,
        "execution": {
          "iopub.status.busy": "2025-02-04T21:55:18.269473Z",
          "iopub.execute_input": "2025-02-04T21:55:18.269791Z",
          "iopub.status.idle": "2025-02-04T21:57:07.889443Z",
          "shell.execute_reply.started": "2025-02-04T21:55:18.269761Z",
          "shell.execute_reply": "2025-02-04T21:57:07.888491Z"
        },
        "id": "3TIeS-nh-W4x",
        "outputId": "5ac54743-e2b5-4827-9dca-91b7e7f39082"
      },
      "outputs": [
        {
          "name": "stdout",
          "text": "Performing 50 training epochs with 2 threads\nEpoch 0\nEpoch 1\nEpoch 2\nEpoch 3\nEpoch 4\nEpoch 5\nEpoch 6\nEpoch 7\nEpoch 8\nEpoch 9\nEpoch 10\nEpoch 11\nEpoch 12\nEpoch 13\nEpoch 14\nEpoch 15\nEpoch 16\nEpoch 17\nEpoch 18\nEpoch 19\nEpoch 20\nEpoch 21\nEpoch 22\nEpoch 23\nEpoch 24\nEpoch 25\nEpoch 26\nEpoch 27\nEpoch 28\nEpoch 29\nEpoch 30\nEpoch 31\nEpoch 32\nEpoch 33\nEpoch 34\nEpoch 35\nEpoch 36\nEpoch 37\nEpoch 38\nEpoch 39\nEpoch 40\nEpoch 41\nEpoch 42\nEpoch 43\nEpoch 44\nEpoch 45\nEpoch 46\nEpoch 47\nEpoch 48\nEpoch 49\n",
          "output_type": "stream"
        }
      ],
      "execution_count": null
    },
    {
      "cell_type": "code",
      "source": [
        "# # Preprocess the text data\n",
        "# def preprocess_text(text):\n",
        "#     text = text.lower()\n",
        "#     text = ''.join(c for c in text if c.isalnum() or c.isspace())\n",
        "#     return text\n",
        "\n",
        "# # Apply preprocessing\n",
        "# train_df['cleaned_text'] = train_df['ABSTRACT'].apply(preprocess_text)\n",
        "\n",
        "# # Convert text to a bag-of-words representation\n",
        "# vectorizer = CountVectorizer(max_features=1000, stop_words='english')\n",
        "# X = vectorizer.fit_transform(train_df['cleaned_text']).toarray()\n",
        "\n",
        "# Encode the target labels\n",
        "Y = train_df[['Computer Science', 'Physics', 'Mathematics', 'Statistics',\n",
        "        'Quantitative Biology', 'Quantitative Finance']]  # Replace 'LABEL' with the actual column name in your dataset"
      ],
      "metadata": {
        "trusted": true,
        "execution": {
          "iopub.status.busy": "2025-02-04T21:57:07.891307Z",
          "iopub.execute_input": "2025-02-04T21:57:07.891539Z",
          "iopub.status.idle": "2025-02-04T21:57:07.904031Z",
          "shell.execute_reply.started": "2025-02-04T21:57:07.89152Z",
          "shell.execute_reply": "2025-02-04T21:57:07.902938Z"
        },
        "id": "nbqLSHfY-W4x"
      },
      "outputs": [],
      "execution_count": null
    },
    {
      "cell_type": "code",
      "source": [
        "#convert sentences to sequences of indices\n",
        "def encode_message(msg, dictionary, max_length=10):\n",
        "    tokens = word_tokenize(msg.lower())\n",
        "    return [dictionary.get(word, 0) for word in tokens][:max_length]\n",
        "\n",
        "# define maximum message length\n",
        "max_length = 100\n",
        "encoded_messages = [encode_message(msg, glove.dictionary, max_length) for msg in train_df['ABSTRACT']]\n",
        "\n",
        "#Pad sequences to uniform length\n",
        "X = np.array([seq + [0]*(max_length-len(seq)) for seq in encoded_messages])"
      ],
      "metadata": {
        "trusted": true,
        "execution": {
          "iopub.status.busy": "2025-02-04T21:57:07.905497Z",
          "iopub.execute_input": "2025-02-04T21:57:07.905978Z",
          "iopub.status.idle": "2025-02-04T21:57:28.712116Z",
          "shell.execute_reply.started": "2025-02-04T21:57:07.905945Z",
          "shell.execute_reply": "2025-02-04T21:57:28.711112Z"
        },
        "id": "ZpPYJSxN-W4x"
      },
      "outputs": [],
      "execution_count": null
    },
    {
      "cell_type": "code",
      "source": [
        "X_train, X_val, Y_train, Y_val = train_test_split(X, Y, test_size=0.1, random_state=42)"
      ],
      "metadata": {
        "trusted": true,
        "execution": {
          "iopub.status.busy": "2025-02-04T21:57:28.713023Z",
          "iopub.execute_input": "2025-02-04T21:57:28.713298Z",
          "iopub.status.idle": "2025-02-04T21:57:28.72947Z",
          "shell.execute_reply.started": "2025-02-04T21:57:28.713272Z",
          "shell.execute_reply": "2025-02-04T21:57:28.728645Z"
        },
        "id": "Ht673EfS-W4x"
      },
      "outputs": [],
      "execution_count": null
    },
    {
      "cell_type": "code",
      "source": [
        "from tensorflow.keras.models import Sequential\n",
        "from tensorflow.keras.layers import Dense, Dropout\n",
        "from tensorflow.keras.optimizers import Adam\n",
        "\n",
        "# Define model\n",
        "# model = Sequential([\n",
        "#     Input(shape=(X.shape[1],)),  # Input layer\n",
        "#     Dense(256, activation='relu'),          # Hidden layer 1\n",
        "#     Dropout(0.3),                           # Dropout for regularization\n",
        "#     Dense(128, activation='relu'),          # Hidden layer 2\n",
        "#     Dropout(0.3),\n",
        "#     Dense(Y_one_hot.shape[1], activation='sigmoid' if Y_one_hot.ndim > 1 else 'softmax')  # Output layer\n",
        "# ])\n",
        "\n",
        "model = Sequential([\n",
        "    Embedding(input_dim = vocab_size, output_dim=embedding_dim,\n",
        "             weights =[embedding_matrix] , input_length = max_length, trainable=False),\n",
        "    Flatten(),\n",
        "    Dense(16, activation='relu'),\n",
        "    Dense(Y.shape[1], activation='sigmoid' if Y.ndim > 1 else 'softmax')\n",
        "])\n",
        "\n",
        "# Compile model\n",
        "model.compile(\n",
        "    optimizer=Adam(learning_rate=0.001),\n",
        "    loss='binary_crossentropy' if Y.ndim > 1 else 'categorical_crossentropy',\n",
        "    metrics=['accuracy']\n",
        ")\n"
      ],
      "metadata": {
        "trusted": true,
        "execution": {
          "iopub.status.busy": "2025-02-04T21:57:28.730345Z",
          "iopub.execute_input": "2025-02-04T21:57:28.730727Z",
          "iopub.status.idle": "2025-02-04T21:57:29.505191Z",
          "shell.execute_reply.started": "2025-02-04T21:57:28.730696Z",
          "shell.execute_reply": "2025-02-04T21:57:29.50421Z"
        },
        "id": "iufaeaJS-W4x",
        "outputId": "a8c318be-3ccc-4b8e-9c92-6b24d073725e"
      },
      "outputs": [
        {
          "name": "stderr",
          "text": "/usr/local/lib/python3.10/dist-packages/keras/src/layers/core/embedding.py:90: UserWarning: Argument `input_length` is deprecated. Just remove it.\n  warnings.warn(\n",
          "output_type": "stream"
        }
      ],
      "execution_count": null
    },
    {
      "cell_type": "code",
      "source": [
        "# Train the model\n",
        "history = model.fit(\n",
        "    X_train, Y_train,\n",
        "    validation_data=(X_val, Y_val),\n",
        "    epochs=50,        # Adjust number of epochs\n",
        "    batch_size=16,    # Adjust batch size\n",
        "    verbose=1\n",
        ")\n"
      ],
      "metadata": {
        "trusted": true,
        "execution": {
          "iopub.status.busy": "2025-02-04T21:57:29.506149Z",
          "iopub.execute_input": "2025-02-04T21:57:29.506472Z",
          "iopub.status.idle": "2025-02-04T21:58:50.973982Z",
          "shell.execute_reply.started": "2025-02-04T21:57:29.506439Z",
          "shell.execute_reply": "2025-02-04T21:58:50.973294Z"
        },
        "id": "Qtg5t7XO-W4x",
        "outputId": "5dd1e323-5a98-414a-b238-38128f46ddad"
      },
      "outputs": [
        {
          "name": "stdout",
          "text": "Epoch 1/50\n\u001b[1m1180/1180\u001b[0m \u001b[32m━━━━━━━━━━━━━━━━━━━━\u001b[0m\u001b[37m\u001b[0m \u001b[1m5s\u001b[0m 2ms/step - accuracy: 0.5249 - loss: 0.3843 - val_accuracy: 0.6463 - val_loss: 0.3294\nEpoch 2/50\n\u001b[1m1180/1180\u001b[0m \u001b[32m━━━━━━━━━━━━━━━━━━━━\u001b[0m\u001b[37m\u001b[0m \u001b[1m2s\u001b[0m 1ms/step - accuracy: 0.6557 - loss: 0.2994 - val_accuracy: 0.6163 - val_loss: 0.3164\nEpoch 3/50\n\u001b[1m1180/1180\u001b[0m \u001b[32m━━━━━━━━━━━━━━━━━━━━\u001b[0m\u001b[37m\u001b[0m \u001b[1m2s\u001b[0m 1ms/step - accuracy: 0.6863 - loss: 0.2719 - val_accuracy: 0.6578 - val_loss: 0.3231\nEpoch 4/50\n\u001b[1m1180/1180\u001b[0m \u001b[32m━━━━━━━━━━━━━━━━━━━━\u001b[0m\u001b[37m\u001b[0m \u001b[1m2s\u001b[0m 1ms/step - accuracy: 0.6934 - loss: 0.2609 - val_accuracy: 0.6459 - val_loss: 0.3194\nEpoch 5/50\n\u001b[1m1180/1180\u001b[0m \u001b[32m━━━━━━━━━━━━━━━━━━━━\u001b[0m\u001b[37m\u001b[0m \u001b[1m2s\u001b[0m 1ms/step - accuracy: 0.7076 - loss: 0.2444 - val_accuracy: 0.6006 - val_loss: 0.3276\nEpoch 6/50\n\u001b[1m1180/1180\u001b[0m \u001b[32m━━━━━━━━━━━━━━━━━━━━\u001b[0m\u001b[37m\u001b[0m \u001b[1m2s\u001b[0m 1ms/step - accuracy: 0.7137 - loss: 0.2365 - val_accuracy: 0.6173 - val_loss: 0.3330\nEpoch 7/50\n\u001b[1m1180/1180\u001b[0m \u001b[32m━━━━━━━━━━━━━━━━━━━━\u001b[0m\u001b[37m\u001b[0m \u001b[1m2s\u001b[0m 1ms/step - accuracy: 0.7244 - loss: 0.2227 - val_accuracy: 0.6196 - val_loss: 0.3456\nEpoch 8/50\n\u001b[1m1180/1180\u001b[0m \u001b[32m━━━━━━━━━━━━━━━━━━━━\u001b[0m\u001b[37m\u001b[0m \u001b[1m2s\u001b[0m 1ms/step - accuracy: 0.7320 - loss: 0.2150 - val_accuracy: 0.5929 - val_loss: 0.3526\nEpoch 9/50\n\u001b[1m1180/1180\u001b[0m \u001b[32m━━━━━━━━━━━━━━━━━━━━\u001b[0m\u001b[37m\u001b[0m \u001b[1m2s\u001b[0m 1ms/step - accuracy: 0.7499 - loss: 0.2022 - val_accuracy: 0.6501 - val_loss: 0.3616\nEpoch 10/50\n\u001b[1m1180/1180\u001b[0m \u001b[32m━━━━━━━━━━━━━━━━━━━━\u001b[0m\u001b[37m\u001b[0m \u001b[1m2s\u001b[0m 1ms/step - accuracy: 0.7582 - loss: 0.1945 - val_accuracy: 0.6034 - val_loss: 0.3820\nEpoch 11/50\n\u001b[1m1180/1180\u001b[0m \u001b[32m━━━━━━━━━━━━━━━━━━━━\u001b[0m\u001b[37m\u001b[0m \u001b[1m2s\u001b[0m 1ms/step - accuracy: 0.7596 - loss: 0.1875 - val_accuracy: 0.5934 - val_loss: 0.3851\nEpoch 12/50\n\u001b[1m1180/1180\u001b[0m \u001b[32m━━━━━━━━━━━━━━━━━━━━\u001b[0m\u001b[37m\u001b[0m \u001b[1m2s\u001b[0m 1ms/step - accuracy: 0.7704 - loss: 0.1807 - val_accuracy: 0.6220 - val_loss: 0.3915\nEpoch 13/50\n\u001b[1m1180/1180\u001b[0m \u001b[32m━━━━━━━━━━━━━━━━━━━━\u001b[0m\u001b[37m\u001b[0m \u001b[1m2s\u001b[0m 1ms/step - accuracy: 0.7827 - loss: 0.1731 - val_accuracy: 0.5991 - val_loss: 0.4103\nEpoch 14/50\n\u001b[1m1180/1180\u001b[0m \u001b[32m━━━━━━━━━━━━━━━━━━━━\u001b[0m\u001b[37m\u001b[0m \u001b[1m2s\u001b[0m 1ms/step - accuracy: 0.7805 - loss: 0.1697 - val_accuracy: 0.5753 - val_loss: 0.4229\nEpoch 15/50\n\u001b[1m1180/1180\u001b[0m \u001b[32m━━━━━━━━━━━━━━━━━━━━\u001b[0m\u001b[37m\u001b[0m \u001b[1m2s\u001b[0m 1ms/step - accuracy: 0.7941 - loss: 0.1623 - val_accuracy: 0.6030 - val_loss: 0.4434\nEpoch 16/50\n\u001b[1m1180/1180\u001b[0m \u001b[32m━━━━━━━━━━━━━━━━━━━━\u001b[0m\u001b[37m\u001b[0m \u001b[1m2s\u001b[0m 1ms/step - accuracy: 0.7962 - loss: 0.1578 - val_accuracy: 0.6177 - val_loss: 0.4486\nEpoch 17/50\n\u001b[1m1180/1180\u001b[0m \u001b[32m━━━━━━━━━━━━━━━━━━━━\u001b[0m\u001b[37m\u001b[0m \u001b[1m2s\u001b[0m 1ms/step - accuracy: 0.8000 - loss: 0.1531 - val_accuracy: 0.5858 - val_loss: 0.4662\nEpoch 18/50\n\u001b[1m1180/1180\u001b[0m \u001b[32m━━━━━━━━━━━━━━━━━━━━\u001b[0m\u001b[37m\u001b[0m \u001b[1m2s\u001b[0m 1ms/step - accuracy: 0.8074 - loss: 0.1465 - val_accuracy: 0.5910 - val_loss: 0.5001\nEpoch 19/50\n\u001b[1m1180/1180\u001b[0m \u001b[32m━━━━━━━━━━━━━━━━━━━━\u001b[0m\u001b[37m\u001b[0m \u001b[1m2s\u001b[0m 1ms/step - accuracy: 0.8117 - loss: 0.1418 - val_accuracy: 0.5991 - val_loss: 0.4846\nEpoch 20/50\n\u001b[1m1180/1180\u001b[0m \u001b[32m━━━━━━━━━━━━━━━━━━━━\u001b[0m\u001b[37m\u001b[0m \u001b[1m2s\u001b[0m 1ms/step - accuracy: 0.8163 - loss: 0.1383 - val_accuracy: 0.5958 - val_loss: 0.5337\nEpoch 21/50\n\u001b[1m1180/1180\u001b[0m \u001b[32m━━━━━━━━━━━━━━━━━━━━\u001b[0m\u001b[37m\u001b[0m \u001b[1m2s\u001b[0m 1ms/step - accuracy: 0.8208 - loss: 0.1349 - val_accuracy: 0.5929 - val_loss: 0.5363\nEpoch 22/50\n\u001b[1m1180/1180\u001b[0m \u001b[32m━━━━━━━━━━━━━━━━━━━━\u001b[0m\u001b[37m\u001b[0m \u001b[1m2s\u001b[0m 1ms/step - accuracy: 0.8211 - loss: 0.1321 - val_accuracy: 0.5686 - val_loss: 0.5244\nEpoch 23/50\n\u001b[1m1180/1180\u001b[0m \u001b[32m━━━━━━━━━━━━━━━━━━━━\u001b[0m\u001b[37m\u001b[0m \u001b[1m2s\u001b[0m 1ms/step - accuracy: 0.8210 - loss: 0.1269 - val_accuracy: 0.6092 - val_loss: 0.5706\nEpoch 24/50\n\u001b[1m1180/1180\u001b[0m \u001b[32m━━━━━━━━━━━━━━━━━━━━\u001b[0m\u001b[37m\u001b[0m \u001b[1m2s\u001b[0m 1ms/step - accuracy: 0.8324 - loss: 0.1230 - val_accuracy: 0.6030 - val_loss: 0.6078\nEpoch 25/50\n\u001b[1m1180/1180\u001b[0m \u001b[32m━━━━━━━━━━━━━━━━━━━━\u001b[0m\u001b[37m\u001b[0m \u001b[1m2s\u001b[0m 1ms/step - accuracy: 0.8293 - loss: 0.1220 - val_accuracy: 0.5901 - val_loss: 0.6119\nEpoch 26/50\n\u001b[1m1180/1180\u001b[0m \u001b[32m━━━━━━━━━━━━━━━━━━━━\u001b[0m\u001b[37m\u001b[0m \u001b[1m2s\u001b[0m 1ms/step - accuracy: 0.8382 - loss: 0.1168 - val_accuracy: 0.6087 - val_loss: 0.6314\nEpoch 27/50\n\u001b[1m1180/1180\u001b[0m \u001b[32m━━━━━━━━━━━━━━━━━━━━\u001b[0m\u001b[37m\u001b[0m \u001b[1m2s\u001b[0m 1ms/step - accuracy: 0.8354 - loss: 0.1141 - val_accuracy: 0.5496 - val_loss: 0.6276\nEpoch 28/50\n\u001b[1m1180/1180\u001b[0m \u001b[32m━━━━━━━━━━━━━━━━━━━━\u001b[0m\u001b[37m\u001b[0m \u001b[1m2s\u001b[0m 1ms/step - accuracy: 0.8389 - loss: 0.1126 - val_accuracy: 0.5658 - val_loss: 0.6596\nEpoch 29/50\n\u001b[1m1180/1180\u001b[0m \u001b[32m━━━━━━━━━━━━━━━━━━━━\u001b[0m\u001b[37m\u001b[0m \u001b[1m2s\u001b[0m 1ms/step - accuracy: 0.8385 - loss: 0.1070 - val_accuracy: 0.5763 - val_loss: 0.6830\nEpoch 30/50\n\u001b[1m1180/1180\u001b[0m \u001b[32m━━━━━━━━━━━━━━━━━━━━\u001b[0m\u001b[37m\u001b[0m \u001b[1m2s\u001b[0m 1ms/step - accuracy: 0.8375 - loss: 0.1074 - val_accuracy: 0.5820 - val_loss: 0.6984\nEpoch 31/50\n\u001b[1m1180/1180\u001b[0m \u001b[32m━━━━━━━━━━━━━━━━━━━━\u001b[0m\u001b[37m\u001b[0m \u001b[1m2s\u001b[0m 1ms/step - accuracy: 0.8443 - loss: 0.1028 - val_accuracy: 0.5810 - val_loss: 0.7347\nEpoch 32/50\n\u001b[1m1180/1180\u001b[0m \u001b[32m━━━━━━━━━━━━━━━━━━━━\u001b[0m\u001b[37m\u001b[0m \u001b[1m2s\u001b[0m 1ms/step - accuracy: 0.8513 - loss: 0.0983 - val_accuracy: 0.5915 - val_loss: 0.7475\nEpoch 33/50\n\u001b[1m1180/1180\u001b[0m \u001b[32m━━━━━━━━━━━━━━━━━━━━\u001b[0m\u001b[37m\u001b[0m \u001b[1m2s\u001b[0m 1ms/step - accuracy: 0.8475 - loss: 0.1003 - val_accuracy: 0.5753 - val_loss: 0.7515\nEpoch 34/50\n\u001b[1m1180/1180\u001b[0m \u001b[32m━━━━━━━━━━━━━━━━━━━━\u001b[0m\u001b[37m\u001b[0m \u001b[1m2s\u001b[0m 1ms/step - accuracy: 0.8514 - loss: 0.0937 - val_accuracy: 0.5910 - val_loss: 0.7647\nEpoch 35/50\n\u001b[1m1180/1180\u001b[0m \u001b[32m━━━━━━━━━━━━━━━━━━━━\u001b[0m\u001b[37m\u001b[0m \u001b[1m2s\u001b[0m 1ms/step - accuracy: 0.8459 - loss: 0.0960 - val_accuracy: 0.5643 - val_loss: 0.7850\nEpoch 36/50\n\u001b[1m1180/1180\u001b[0m \u001b[32m━━━━━━━━━━━━━━━━━━━━\u001b[0m\u001b[37m\u001b[0m \u001b[1m2s\u001b[0m 1ms/step - accuracy: 0.8511 - loss: 0.0904 - val_accuracy: 0.5877 - val_loss: 0.8358\nEpoch 37/50\n\u001b[1m1180/1180\u001b[0m \u001b[32m━━━━━━━━━━━━━━━━━━━━\u001b[0m\u001b[37m\u001b[0m \u001b[1m2s\u001b[0m 1ms/step - accuracy: 0.8597 - loss: 0.0875 - val_accuracy: 0.5567 - val_loss: 0.8108\nEpoch 38/50\n\u001b[1m1180/1180\u001b[0m \u001b[32m━━━━━━━━━━━━━━━━━━━━\u001b[0m\u001b[37m\u001b[0m \u001b[1m2s\u001b[0m 1ms/step - accuracy: 0.8544 - loss: 0.0840 - val_accuracy: 0.5767 - val_loss: 0.8312\nEpoch 39/50\n\u001b[1m1180/1180\u001b[0m \u001b[32m━━━━━━━━━━━━━━━━━━━━\u001b[0m\u001b[37m\u001b[0m \u001b[1m2s\u001b[0m 1ms/step - accuracy: 0.8500 - loss: 0.0857 - val_accuracy: 0.5667 - val_loss: 0.8725\nEpoch 40/50\n\u001b[1m1180/1180\u001b[0m \u001b[32m━━━━━━━━━━━━━━━━━━━━\u001b[0m\u001b[37m\u001b[0m \u001b[1m2s\u001b[0m 1ms/step - accuracy: 0.8529 - loss: 0.0808 - val_accuracy: 0.5734 - val_loss: 0.9028\nEpoch 41/50\n\u001b[1m1180/1180\u001b[0m \u001b[32m━━━━━━━━━━━━━━━━━━━━\u001b[0m\u001b[37m\u001b[0m \u001b[1m2s\u001b[0m 1ms/step - accuracy: 0.8555 - loss: 0.0798 - val_accuracy: 0.5443 - val_loss: 0.8618\nEpoch 42/50\n\u001b[1m1180/1180\u001b[0m \u001b[32m━━━━━━━━━━━━━━━━━━━━\u001b[0m\u001b[37m\u001b[0m \u001b[1m2s\u001b[0m 1ms/step - accuracy: 0.8546 - loss: 0.0806 - val_accuracy: 0.5443 - val_loss: 0.9351\nEpoch 43/50\n\u001b[1m1180/1180\u001b[0m \u001b[32m━━━━━━━━━━━━━━━━━━━━\u001b[0m\u001b[37m\u001b[0m \u001b[1m2s\u001b[0m 1ms/step - accuracy: 0.8547 - loss: 0.0758 - val_accuracy: 0.5610 - val_loss: 0.9370\nEpoch 44/50\n\u001b[1m1180/1180\u001b[0m \u001b[32m━━━━━━━━━━━━━━━━━━━━\u001b[0m\u001b[37m\u001b[0m \u001b[1m2s\u001b[0m 1ms/step - accuracy: 0.8515 - loss: 0.0767 - val_accuracy: 0.5582 - val_loss: 0.9945\nEpoch 45/50\n\u001b[1m1180/1180\u001b[0m \u001b[32m━━━━━━━━━━━━━━━━━━━━\u001b[0m\u001b[37m\u001b[0m \u001b[1m2s\u001b[0m 1ms/step - accuracy: 0.8573 - loss: 0.0736 - val_accuracy: 0.5710 - val_loss: 1.0012\nEpoch 46/50\n\u001b[1m1180/1180\u001b[0m \u001b[32m━━━━━━━━━━━━━━━━━━━━\u001b[0m\u001b[37m\u001b[0m \u001b[1m2s\u001b[0m 1ms/step - accuracy: 0.8558 - loss: 0.0714 - val_accuracy: 0.5276 - val_loss: 1.0039\nEpoch 47/50\n\u001b[1m1180/1180\u001b[0m \u001b[32m━━━━━━━━━━━━━━━━━━━━\u001b[0m\u001b[37m\u001b[0m \u001b[1m2s\u001b[0m 1ms/step - accuracy: 0.8534 - loss: 0.0727 - val_accuracy: 0.5610 - val_loss: 1.0407\nEpoch 48/50\n\u001b[1m1180/1180\u001b[0m \u001b[32m━━━━━━━━━━━━━━━━━━━━\u001b[0m\u001b[37m\u001b[0m \u001b[1m2s\u001b[0m 1ms/step - accuracy: 0.8539 - loss: 0.0695 - val_accuracy: 0.5748 - val_loss: 1.0421\nEpoch 49/50\n\u001b[1m1180/1180\u001b[0m \u001b[32m━━━━━━━━━━━━━━━━━━━━\u001b[0m\u001b[37m\u001b[0m \u001b[1m2s\u001b[0m 1ms/step - accuracy: 0.8589 - loss: 0.0656 - val_accuracy: 0.5653 - val_loss: 1.0611\nEpoch 50/50\n\u001b[1m1180/1180\u001b[0m \u001b[32m━━━━━━━━━━━━━━━━━━━━\u001b[0m\u001b[37m\u001b[0m \u001b[1m2s\u001b[0m 1ms/step - accuracy: 0.8540 - loss: 0.0670 - val_accuracy: 0.5577 - val_loss: 1.0726\n",
          "output_type": "stream"
        }
      ],
      "execution_count": null
    },
    {
      "cell_type": "code",
      "source": [
        "# Evaluate on test data\n",
        "loss, accuracy = model.evaluate(X_val, Y_val, verbose=0)\n",
        "print(f\"Test Loss: {loss:.4f}\")\n",
        "print(f\"Test Accuracy: {accuracy:.4f}\")\n"
      ],
      "metadata": {
        "trusted": true,
        "execution": {
          "iopub.status.busy": "2025-02-04T21:58:50.975121Z",
          "iopub.execute_input": "2025-02-04T21:58:50.975455Z",
          "iopub.status.idle": "2025-02-04T21:58:51.539151Z",
          "shell.execute_reply.started": "2025-02-04T21:58:50.975424Z",
          "shell.execute_reply": "2025-02-04T21:58:51.538463Z"
        },
        "id": "1Zyayywu-W4y",
        "outputId": "3f5c1acd-0ef9-4df2-ff16-58cf0bc1f610"
      },
      "outputs": [
        {
          "name": "stdout",
          "text": "Test Loss: 1.0726\nTest Accuracy: 0.5577\n",
          "output_type": "stream"
        }
      ],
      "execution_count": null
    },
    {
      "cell_type": "code",
      "source": [
        "import matplotlib.pyplot as plt\n",
        "\n",
        "# Plot accuracy\n",
        "plt.plot(history.history['accuracy'], label='Train Accuracy')\n",
        "plt.plot(history.history['val_accuracy'], label='Validation Accuracy')\n",
        "plt.legend()\n",
        "plt.title('Accuracy')\n",
        "plt.show()\n",
        "\n",
        "# Plot loss\n",
        "plt.plot(history.history['loss'], label='Train Loss')\n",
        "plt.plot(history.history['val_loss'], label='Validation Loss')\n",
        "plt.legend()\n",
        "plt.title('Loss')\n",
        "plt.show()\n"
      ],
      "metadata": {
        "trusted": true,
        "execution": {
          "iopub.status.busy": "2025-02-04T21:58:51.540047Z",
          "iopub.execute_input": "2025-02-04T21:58:51.540363Z"
        },
        "id": "ijYAdZpT-W4y",
        "outputId": "54e9c8b4-fe0b-484a-f0fb-7921c96b553d"
      },
      "outputs": [
        {
          "output_type": "display_data",
          "data": {
            "text/plain": "<Figure size 640x480 with 1 Axes>",
            "image/png": "[encoded data removed]"
          },
          "metadata": {}
        }
      ],
      "execution_count": null
    },
    {
      "cell_type": "code",
      "source": [
        "# Example input text\n",
        "new_text = [test_df['ABSTRACT'][10]]\n",
        "\n",
        "# Use the same TF-IDF vectorizer as used during training\n",
        "# new_texts_transformed = vectorizer.transform(new_text).toarray()\n",
        "\n",
        "max_length = 100\n",
        "encoded_messages = [encode_message(msg, glove.dictionary, max_length) for msg in new_text]\n",
        "\n",
        "#Pad sequences to uniform length\n",
        "X = np.array([seq + [0]*(max_length-len(seq)) for seq in encoded_messages])\n"
      ],
      "metadata": {
        "trusted": true,
        "id": "uGEU8Cgm-W4y"
      },
      "outputs": [],
      "execution_count": null
    },
    {
      "cell_type": "code",
      "source": [
        "# Predict class probabilities\n",
        "class_labels = ['Computer Science', 'Physics', 'Mathematics', 'Statistics',\n",
        "        'Quantitative Biology', 'Quantitative Finance']  # Replace with your actual class labels\n",
        "\n",
        "# Fit the LabelEncoder with class labels\n",
        "label_encoder = LabelEncoder()\n",
        "label_encoder.fit(class_labels)\n",
        "\n",
        "predictions = model.predict(X)\n",
        "\n",
        "# Get the predicted class indices\n",
        "predicted_class_indices = predictions.argmax(axis=1)\n",
        "\n",
        "# Convert indices back to class labels\n",
        "predicted_classes = label_encoder.inverse_transform(predicted_class_indices)\n",
        "\n",
        "# Display predictions\n",
        "for text, pred in zip(new_text, predicted_classes):\n",
        "    print(f\"Text: {text}\\nPredicted Class: {pred}\\n\")\n"
      ],
      "metadata": {
        "trusted": true,
        "id": "Wxxsehpe-W4y"
      },
      "outputs": [],
      "execution_count": null
    }
  ]
}